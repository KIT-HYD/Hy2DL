{
 "cells": [
  {
   "cell_type": "code",
   "execution_count": 1,
   "metadata": {},
   "outputs": [],
   "source": [
    "#Import necessary packages\n",
    "import pandas as pd\n",
    "import numpy as np\n",
    "import pickle\n",
    "import matplotlib.pyplot as plt\n",
    "from pathlib import Path"
   ]
  },
  {
   "cell_type": "markdown",
   "metadata": {},
   "source": [
    "Part 1. Auxiliary functions"
   ]
  },
  {
   "cell_type": "code",
   "execution_count": null,
   "metadata": {},
   "outputs": [],
   "source": [
    "def read_attributes(path_data) -> pd.DataFrame:\n",
    "    \"\"\"Read the catchments` attributes\n",
    "    Parameters\n",
    "    ----------\n",
    "    path_data : str\n",
    "        patha data\n",
    "\n",
    "    Returns\n",
    "    -------\n",
    "    df: pd.DataFrame\n",
    "        Dataframe with the catchments` attributes\n",
    "    \"\"\"\n",
    "    # files that contain the attributes\n",
    "    path_attributes = Path(path_data)\n",
    "    read_files = list(path_attributes.glob('*_attributes.csv'))\n",
    "\n",
    "    dfs = []\n",
    "    # Read each CSV file into a DataFrame and store it in list\n",
    "    for file in read_files:\n",
    "        df = pd.read_csv(file, sep=',', header=0, dtype={'gauge_id': str})\n",
    "        df.set_index('gauge_id', inplace=True)\n",
    "        dfs.append(df)\n",
    "    \n",
    "    # Join all dataframes\n",
    "    df_attributes= pd.concat(dfs, axis=1)\n",
    "\n",
    "    return df_attributes\n",
    "\n",
    "\n",
    "def read_data(path_data, catch_id: str)-> pd.DataFrame:\n",
    "    \"\"\"Read the catchments` timeseries\n",
    "\n",
    "    Parameters\n",
    "    ----------\n",
    "    catch_id : str\n",
    "        identifier of the basin.\n",
    "\n",
    "    Returns\n",
    "    -------\n",
    "    df: pd.DataFrame\n",
    "        Dataframe with the catchments` timeseries\n",
    "    \"\"\"\n",
    "    path_timeseries = Path(path_data) / 'timeseries' / f'CAMELS_DE_hydromet_timeseries_{catch_id}.csv'\n",
    "    # load time series\n",
    "    df = pd.read_csv(path_timeseries)\n",
    "    df = df.set_index('date')\n",
    "    df.index = pd.to_datetime(df.index, format=\"%Y-%m-%d\")\n",
    "    return df\n",
    "\n",
    "def hargreaves_adapted(df, lat):\n",
    "    \"\"\"\n",
    "    Adapted formulation of the Hargreaves equation to calculate potential evapotranspiration (PET).\n",
    "    The calculation includes corrections for orographic effects and considers solar geometry based on latitude.\n",
    "\n",
    "    Parameters:\n",
    "        df (pandas.DataFrame): DataFrame containing daily weather data with columns for 'temperature_max',\n",
    "                               'temperature_min', 'precipitation_mean', and 'temperature_mean'. Index should be a datetime type.\n",
    "        lat (float): Latitude in degrees.\n",
    "\n",
    "    Returns:\n",
    "        pandas.Series: Potential evapotranspiration for each day in mm/day.\n",
    "    \"\"\"\n",
    "\n",
    "    t_diff = (df['temperature_max'] - df['temperature_min']).resample('M').transform('mean').reindex(df.index, method='ffill')\n",
    "    mon_prec = df['precipitation_mean'].resample('M').transform('mean').reindex(df.index, method='ffill')\n",
    "\n",
    "    # Constants and calculations for solar geometry\n",
    "    phi = np.radians(lat)  # Convert latitude to radians\n",
    "    delta = 0.4093 * np.sin(np.radians((360 / 365) * (df.index.day_of_year.values - 39)))  # Solar declination\n",
    "    dr = 1 + 0.033 * np.cos(np.radians((360 / 365) * df.index.day_of_year.values))  # Earth-sun distance factor\n",
    "    omega_s = np.arccos(-np.tan(phi) * np.tan(delta))  # Sunset hour angle\n",
    "\n",
    "    # Handling of polar day/night conditions\n",
    "    omega_s[np.tan(phi) * np.tan(delta) < -1] = 0  # Sun never rises\n",
    "    omega_s[np.tan(phi) * np.tan(delta) > 1] = np.pi  # Sun never sets\n",
    "\n",
    "    # Extraterrestrial radiation for a horizontal surface\n",
    "    S0 = 15.392 * dr * (omega_s * np.sin(phi) * np.sin(delta) + np.cos(phi) * np.cos(delta) * np.sin(omega_s))\n",
    "\n",
    "    # Potential evapotranspiration calculation\n",
    "    pet = 0.0013 * S0 * (df['temperature_mean'] + 17) * (t_diff - 0.0123 * mon_prec) ** 0.76\n",
    "    pet[pet < 0] = 0  # Ensuring PET is not negative\n",
    "\n",
    "    return pet\n",
    "\n",
    "def penman_pet(df, albedo=0.23):\n",
    "    # Constants\n",
    "    cp = 1.013E-3  # Specific heat of air at constant pressure (MJ/kg/°C)\n",
    "    rho = 1.225  # Air density (kg/m³)\n",
    "    lambda_v = 2.45  # Latent heat of vaporization (MJ/kg)\n",
    "    gamma = 0.066  # Psychrometric constant (kPa/°C)\n",
    "    \n",
    "    # Convert radiation from W/m² to MJ/m²/day\n",
    "    radiation_mj = df['radiation_global_mean'].values * 0.0864\n",
    "    # Calculate net radiation (Rn), assuming no soil heat flux during the day\n",
    "    Rn = (1 - albedo) * radiation_mj\n",
    "    # Saturation vapor pressure (es) and actual vapor pressure (ea)\n",
    "    es = 0.6108 * np.exp((17.27 * df['temperature_mean']) / (df['temperature_mean'] + 237.3))\n",
    "    ea = es * (df['humidity_mean'] / 100)\n",
    "    # Slope of the saturation vapor pressure curve (Delta)\n",
    "    Delta = 4098 * es / ((df['temperature_mean'] + 237.3)**2)\n",
    "    # Assume typical values for aerodynamic resistance (ra) without wind data\n",
    "    ra = 208 / np.sqrt(2)  # Typical value for moderate conditions\n",
    "    # Penman equation\n",
    "    numerator = (Delta * Rn) + (rho * cp * (es - ea) / ra)\n",
    "    denominator = lambda_v * (Delta + gamma * (1 + ra / 208))\n",
    "    PET = numerator / denominator\n",
    "    \n",
    "    return PET"
   ]
  },
  {
   "cell_type": "markdown",
   "metadata": {},
   "source": [
    "Part 2. Input data"
   ]
  },
  {
   "cell_type": "code",
   "execution_count": null,
   "metadata": {},
   "outputs": [],
   "source": [
    "# Path to input data\n",
    "path_entities = \"../../data/basin_id/basins_camels_de_1583.txt\"\n",
    "path_data = \"../../data/CAMELS_DE\""
   ]
  },
  {
   "cell_type": "markdown",
   "metadata": {},
   "source": [
    "Part 3. Calculate PET using hargreaves"
   ]
  },
  {
   "cell_type": "code",
   "execution_count": null,
   "metadata": {},
   "outputs": [],
   "source": [
    "# Read basins\n",
    "entities_ids = np.loadtxt(path_entities, dtype=\"str\").tolist()\n",
    "\n",
    "# Calculate evapotranspiration\n",
    "pet_hargreaves = {}\n",
    "df_attributes = read_attributes(path_data = path_data)\n",
    "for id in entities_ids:\n",
    "    df_data = read_data(path_data = path_data, catch_id=id)\n",
    "    \n",
    "    pet= hargreaves_adapted(df = df_data,\n",
    "                            lat= df_attributes.loc[id, \"gauge_lat\"], \n",
    ")\n",
    "    \n",
    "    pet[pet<0.0] = 0.0 # Limit values to zero\n",
    "    pet_hargreaves[id] = pd.DataFrame(pet, columns=[\"pet(mm/day)\"], index=df_data.index)\n",
    "\n",
    "with open(\"pet_hargreaves.pickle\", \"wb\") as f:\n",
    "    pickle.dump(pet_hargreaves, f)"
   ]
  },
  {
   "cell_type": "markdown",
   "metadata": {},
   "source": [
    "Part 4. Calculate PET using penman"
   ]
  },
  {
   "cell_type": "code",
   "execution_count": null,
   "metadata": {},
   "outputs": [],
   "source": [
    "# Read basins\n",
    "entities_ids = np.loadtxt(path_entities, dtype=\"str\").tolist()\n",
    "\n",
    "# Calculate evapotranspiration\n",
    "pet_penman = {}\n",
    "df_attributes = read_attributes(path_data = path_data)\n",
    "for id in entities_ids:\n",
    "    df_data = read_data(path_data = path_data, catch_id=id)\n",
    "    \n",
    "    pet= penman_pet(df = df_data)\n",
    "    \n",
    "    pet[pet<0.0] = 0.0 # Limit values to zero\n",
    "    pet_penman[id] = pd.DataFrame(pet, columns=[\"pet(mm/day)\"], index=df_data.index)\n",
    "\n",
    "with open(\"pet_penman.pickle\", \"wb\") as f:\n",
    "    pickle.dump(pet_penman, f)"
   ]
  },
  {
   "cell_type": "markdown",
   "metadata": {},
   "source": [
    "Part 5. Comparte results"
   ]
  },
  {
   "cell_type": "code",
   "execution_count": null,
   "metadata": {},
   "outputs": [],
   "source": [
    "basin_id = \"DE112120\" # DE110040\n",
    "\n",
    "plt.rcParams[\"figure.figsize\"] = (20, 10)\n",
    "plt.plot(pet_hargreaves[basin_id][:1400], label = 'hargreaves')\n",
    "plt.plot(pet_penman[basin_id][:1400], label = 'penman')\n",
    "plt.legend()"
   ]
  }
 ],
 "metadata": {
  "environment": {
   "kernel": "python3",
   "name": "pytorch-gpu.2-0.m111",
   "type": "gcloud",
   "uri": "gcr.io/deeplearning-platform-release/pytorch-gpu.2-0:m111"
  },
  "kernelspec": {
   "display_name": "Python 3",
   "language": "python",
   "name": "python3"
  },
  "language_info": {
   "codemirror_mode": {
    "name": "ipython",
    "version": 3
   },
   "file_extension": ".py",
   "mimetype": "text/x-python",
   "name": "python",
   "nbconvert_exporter": "python",
   "pygments_lexer": "ipython3",
   "version": "3.10.4"
  },
  "vscode": {
   "interpreter": {
    "hash": "42b7dc197ee81dd2f6541889b0e14556b882d218c1e7c97db94bc0f7b191f034"
   }
  }
 },
 "nbformat": 4,
 "nbformat_minor": 4
}
