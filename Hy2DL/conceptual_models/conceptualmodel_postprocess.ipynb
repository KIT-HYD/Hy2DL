{
 "cells": [
  {
   "cell_type": "code",
   "execution_count": null,
   "metadata": {
    "tags": []
   },
   "outputs": [],
   "source": [
    "#Import necessary packages\n",
    "import pandas as pd\n",
    "import numpy as np\n",
    "import pickle\n",
    "import matplotlib.pyplot as plt\n",
    "\n",
    "from hydrological_models import HBV\n",
    "from modelcalibration_camelsde import ModelCalibrationCamelsDE as model_calibration\n",
    "from evaluation_metrics import nse_loss"
   ]
  },
  {
   "cell_type": "code",
   "execution_count": null,
   "metadata": {},
   "outputs": [],
   "source": [
    "# Initialize information\n",
    "model = 'HBV' \n",
    "path_data = '../../data/CAMELS_DE'\n",
    "path_output = '../results/conceptual_models_CAMELS_DE/'\n",
    "path_additional_features = \"../../data/CAMELS_DE/pet_hargreaves.pickle\"\n",
    "warmup_period = 365\n",
    "input_variables = ['precipitation_mean', 'pet(mm/day)', 'temperature_mean']\n",
    "target_variables = ['discharge_spec']\n",
    "\n",
    "testing_period = ['1999-01-01','2020-12-31']\n",
    "\n",
    "hydrological_model = HBV()\n",
    "\n",
    "# colorblind friendly palette for plotting\n",
    "color_palette = {\"observed\": \"#1f78b4\",\"simulated\": \"#ff7f00\"}"
   ]
  },
  {
   "cell_type": "code",
   "execution_count": null,
   "metadata": {},
   "outputs": [],
   "source": [
    "# Read the calibration results by each method, and select the best case. In other words, select the calibrated\n",
    "# parameters (for each basin) that gave best results. The SHM_XXX_summary.csv files are generated when running the \n",
    "# scripts associated with each calibration method\n",
    "\n",
    "# Read DREAM calibration\n",
    "df_dream = pd.read_csv(path_output + hydrological_model.name + '_dream_summary.csv', dtype={'basin_id': str})\n",
    "df_dream.set_index('basin_id', inplace=True)\n",
    "basins_id = df_dream.index\n",
    "parameter_sets= df_dream.iloc[:, 1:-1].reindex(df_dream.index)"
   ]
  },
  {
   "cell_type": "markdown",
   "metadata": {},
   "source": [
    "Run the model for each basin, using the best calibration parameters"
   ]
  },
  {
   "cell_type": "code",
   "execution_count": null,
   "metadata": {},
   "outputs": [],
   "source": [
    "test_results = {}\n",
    "NSE_testing =  []\n",
    "\n",
    "# Loop that goes through each basin\n",
    "for i, basin in enumerate(basins_id):\n",
    "     testing_object = model_calibration(model = hydrological_model,\n",
    "                                        path_data = path_data,\n",
    "                                        basin_id = basin,\n",
    "                                        input_variables = input_variables , \n",
    "                                        target_variables = target_variables,\n",
    "                                        time_period = testing_period, \n",
    "                                        obj_func = None, \n",
    "                                        warmup_period = warmup_period,\n",
    "                                        path_additional_features=path_additional_features)\n",
    "                 \n",
    "     \n",
    "     # Testing period ------------------------------------------\n",
    "     q_sim = testing_object.simulation(parameter_sets.loc[basin].values)\n",
    "     q_obs = testing_object.evaluation()\n",
    "\n",
    "     # Calculate loss\n",
    "     evaluation = q_obs[warmup_period:][testing_object.data_split[warmup_period:]]\n",
    "     simulation = q_sim[warmup_period:][testing_object.data_split[warmup_period:]]\n",
    "\n",
    "     time_index = testing_object.timeseries['df'].index[warmup_period:][testing_object.data_split[warmup_period:]]\n",
    "     df_discharge = pd.DataFrame(data={'y_sim': simulation, 'y_obs': evaluation}, index=time_index)\n",
    "     test_results[basin] = df_discharge\n",
    "       \n",
    "     mask_nans = ~np.isnan(evaluation)\n",
    "     NSE_testing.append(nse_loss(evaluation=evaluation[mask_nans].flatten(),\n",
    "                                 simulation=simulation[mask_nans].flatten()))\n",
    "\n",
    "\n",
    "df_NSE = pd.DataFrame(data={'basin_id': basins_id,'NSE': NSE_testing})\n",
    "df_NSE = df_NSE.set_index('basin_id')\n",
    "df_NSE.to_csv(path_output+'/'+model+'_NSE.csv', index=True, header=True)\n",
    "\n",
    "# Save results as a pickle file\n",
    "with open(path_output+\"/test_results.pickle\", \"wb\") as f:\n",
    "    pickle.dump(test_results, f)"
   ]
  },
  {
   "cell_type": "code",
   "execution_count": null,
   "metadata": {},
   "outputs": [],
   "source": [
    "# Plot simulated and observed discharges\n",
    "basin_to_analyze = \"DE110350\"\n",
    "\n",
    "plt.rcParams[\"figure.figsize\"] = (20, 8)\n",
    "plt.plot(test_results[basin_to_analyze][\"y_obs\"], label=\"observed\", color=color_palette[\"observed\"])\n",
    "plt.plot(test_results[basin_to_analyze][\"y_sim\"], label=\"simulated\", alpha=0.5, color=color_palette[\"simulated\"])\n",
    "\n",
    "# Format plot\n",
    "plt.xlabel(\"Day\", fontsize=12, fontweight=\"bold\")\n",
    "plt.ylabel(\"Discharge [mm/d]\", fontsize=12, fontweight=\"bold\")\n",
    "plt.title(\"Discharge comparison\", fontsize=16, fontweight=\"bold\")\n",
    "plt.tick_params(axis=\"both\", which=\"major\", labelsize=12)\n",
    "plt.legend(loc=\"upper right\",fontsize=12)\n",
    "#plt.savefig(save_folder+\"/Model_Comparison.png\", bbox_inches=\"tight\", pad_inches=0)"
   ]
  }
 ],
 "metadata": {
  "kernelspec": {
   "display_name": "Python 3 (ipykernel)",
   "language": "python",
   "name": "python3"
  },
  "language_info": {
   "codemirror_mode": {
    "name": "ipython",
    "version": 3
   },
   "file_extension": ".py",
   "mimetype": "text/x-python",
   "name": "python",
   "nbconvert_exporter": "python",
   "pygments_lexer": "ipython3",
   "version": "3.12.2"
  },
  "vscode": {
   "interpreter": {
    "hash": "42b7dc197ee81dd2f6541889b0e14556b882d218c1e7c97db94bc0f7b191f034"
   }
  }
 },
 "nbformat": 4,
 "nbformat_minor": 4
}
