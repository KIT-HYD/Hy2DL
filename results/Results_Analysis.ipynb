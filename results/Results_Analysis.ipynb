{
 "cells": [
  {
   "cell_type": "markdown",
   "metadata": {},
   "source": [
    "Notebook to analyze the results and generate the respectives figures"
   ]
  },
  {
   "cell_type": "code",
   "execution_count": null,
   "metadata": {
    "tags": []
   },
   "outputs": [],
   "source": [
    "#Import necessary packages\n",
    "import numpy as np\n",
    "import pandas as pd\n",
    "import matplotlib.pyplot as plt\n",
    "from matplotlib.ticker import MaxNLocator\n",
    "import pickle\n",
    "import xarray as xr \n",
    "from pathlib import Path"
   ]
  },
  {
   "cell_type": "code",
   "execution_count": null,
   "metadata": {},
   "outputs": [],
   "source": [
    "# colorblind friendly color palet\n",
    "color_dictionary = {\n",
    "    \"Observed\": \"#7b85d4\",\n",
    "    \"LSTM\": \"#e9d043\",\n",
    "    \"LSTM_SHM\": \"#83c995\",\n",
    "    \"LSTM_Bucket\": \"#859795\",\n",
    "    \"LSTM_NonSense\": \"#ad5b50\",\n",
    "    \"SHM\": \"#f37738\",\n",
    "    \"benchmark\": \"#7b0051\"}"
   ]
  },
  {
   "cell_type": "markdown",
   "metadata": {},
   "source": [
    "Part 1. Comparison with existing benchmarks: discharge"
   ]
  },
  {
   "cell_type": "code",
   "execution_count": null,
   "metadata": {},
   "outputs": [],
   "source": [
    "# Lees 2021: Benchmark CAMELS-GB\n",
    "metrics_lees = xr.open_dataset(Path(\"../benchmarks/Lees/metrics.nc\"))\n",
    "metrics_lees = metrics_lees.sel(model='LSTM')['nse']\n",
    "NSE_Lees = metrics_lees.to_dataframe(name='NSE_Lees')\n",
    "NSE_Lees = NSE_Lees.drop(columns='model')\n",
    "NSE_Lees = NSE_Lees.round(3)\n",
    "\n",
    "# Kratzert 2019: Benchmark CAMELS-US\n",
    "metrics_krazert  =  pickle.load(open(\"../benchmarks/kratzert/all_metrics.p\", \"rb\"))\n",
    "NSE_Krazert = pd.DataFrame(list(metrics_krazert['NSE']['lstm_NSE']['ensemble'].items()), columns=['basin_id', 'NSE_Kratzert'])\n",
    "NSE_Krazert = NSE_Krazert.round(3)\n",
    "NSE_Krazert = NSE_Krazert.set_index('basin_id')"
   ]
  },
  {
   "cell_type": "code",
   "execution_count": null,
   "metadata": {},
   "outputs": [],
   "source": [
    "# Comparison of CAMELS-GB\n",
    "NSE_LSTM_gb = pd.read_csv('models/LSTM_CAMELS_GB/NSE_LeesComparison.csv', index_col=0, header=0, names=['LSTM_GB'])\n",
    "Comparison_gb = pd.concat([NSE_Lees,NSE_LSTM_gb], axis=1)\n",
    "Comparison_gb = Comparison_gb.apply(lambda x: x.sort_values().values).reset_index(drop=True)\n",
    "Comparison_gb['cdf_gb'] = np.arange(len(Comparison_gb)) / (len(Comparison_gb) - 1)\n",
    "\n",
    "# Comparison of CAMELS-US\n",
    "NSE_LSTM_us = pd.read_csv('models/LSTM_CAMELS_US/NSE.csv', dtype= str, index_col=0, header=0, names=['LSTM_US'])\n",
    "NSE_LSTM_us['LSTM_US'] = NSE_LSTM_us['LSTM_US'].astype(float)\n",
    "Comparison_us = pd.concat([NSE_Krazert,NSE_LSTM_us], axis=1)\n",
    "Comparison_us = Comparison_us.apply(lambda x: x.sort_values().values).reset_index(drop=True)\n",
    "Comparison_us['cdf_us'] = np.arange(len(Comparison_us)) / (len(Comparison_us) - 1)"
   ]
  },
  {
   "cell_type": "code",
   "execution_count": null,
   "metadata": {},
   "outputs": [],
   "source": [
    "#Create plot\n",
    "plt.rcParams[\"figure.figsize\"]=(12,8)\n",
    "plt.plot(Comparison_gb['LSTM_GB'], Comparison_gb['cdf_gb'], label='LSTM_GB' , color=color_dictionary['LSTM'])\n",
    "plt.plot(Comparison_gb['NSE_Lees'], Comparison_gb['cdf_gb'], label='Benchmark_Lees' , color=color_dictionary['benchmark'])\n",
    "\n",
    "plt.plot(Comparison_us['LSTM_US'], Comparison_us['cdf_us'], label='LSTM_US' , color=color_dictionary['LSTM'], linestyle='--')\n",
    "plt.plot(Comparison_us['NSE_Kratzert'], Comparison_us['cdf_us'], label='Benchmark_Kratzert' , color=color_dictionary['benchmark'], linestyle='--')\n",
    "\n",
    "\n",
    "plt.xlim(0.2, 1)\n",
    "plt.xlabel('NSE', fontsize=18, fontweight='bold')\n",
    "plt.ylabel('CDF', fontsize=18, fontweight='bold')\n",
    "plt.xticks(fontsize=16)    \n",
    "plt.yticks([i * 0.25 for i in range(5)], fontsize=16)\n",
    "\n",
    "plt.legend(loc='upper left', fontsize=16)\n",
    "\n",
    "plt.text(x=0.7, y=0.5, s='US', fontsize=16, verticalalignment='bottom')\n",
    "plt.text(x=0.9, y=0.5, s='GB', fontsize=16, verticalalignment='bottom')\n",
    "plt.savefig('Benchmark_cdf_nse.png', bbox_inches='tight', pad_inches=0.05, dpi=300)\n",
    "plt.show()"
   ]
  },
  {
   "cell_type": "code",
   "execution_count": null,
   "metadata": {},
   "outputs": [],
   "source": [
    "print('Median NSE LSTM_GB: '+str(NSE_LSTM_gb.median().round(3).item()) + '\\n' +\n",
    "      'Median NSE Lees: '+str(NSE_Lees.median().round(3).item()) + '\\n' +\n",
    "      '---'+ '\\n'\n",
    "      'Median NSE LSTM_US: '+str(NSE_LSTM_us.median().round(3).item()) + '\\n' +\n",
    "      'Median NSE Kratzert: '+str(NSE_Krazert.median().round(3).item()))"
   ]
  },
  {
   "cell_type": "markdown",
   "metadata": {},
   "source": [
    "Part 2. NSE comparison for the different models"
   ]
  },
  {
   "cell_type": "code",
   "execution_count": null,
   "metadata": {},
   "outputs": [],
   "source": [
    "# The NSE files were generated when running the scripts associated with each model\n",
    "LSTM = pd.read_csv('models/LSTM_CAMELS_GB/NSE.csv', index_col=0, header=0, names=['LSTM'])\n",
    "LSTM_SHM = pd.read_csv('models/LSTM_SHM/NSE.csv', index_col=0, header=0, names=['LSTM_SHM'])\n",
    "LSTM_Bucket = pd.read_csv('models/LSTM_bucket/NSE.csv', index_col=0, header=0, names=['LSTM_Bucket'])\n",
    "LSTM_NonSense = pd.read_csv('models/LSTM_NonSense/NSE.csv', index_col=0, header=0, names=['LSTM_NonSense'])\n",
    "SHM = pd.read_csv('models/conceptual_models/SHM_NSE.csv', index_col=0, header=0, names=['SHM'])\n",
    "\n",
    "# Concatenate the information in one dataframe\n",
    "NSE_Comparison = pd.concat([LSTM,LSTM_SHM,LSTM_Bucket,LSTM_NonSense,SHM], axis=1)\n",
    "\n",
    "# Sort the values of each column in ascending order\n",
    "df_NSE = NSE_Comparison.apply(lambda x: x.sort_values().values).reset_index(drop=True)\n",
    "# Create the empirical cdf of the NSE values\n",
    "df_NSE['cdf'] = np.arange(len(NSE_Comparison)) / (len(NSE_Comparison) - 1)\n",
    "\n",
    "#Create plot\n",
    "plt.rcParams[\"figure.figsize\"]=(12,8)\n",
    "plt.plot(df_NSE['LSTM'], df_NSE['cdf'], label='LSTM' , color=color_dictionary['LSTM'])\n",
    "plt.plot(df_NSE['LSTM_SHM'], df_NSE['cdf'], label='LSTM+SHM' , color=color_dictionary['LSTM_SHM'])\n",
    "plt.plot(df_NSE['LSTM_Bucket'], df_NSE['cdf'], label='LSTM+Bucket' , color=color_dictionary['LSTM_Bucket'])\n",
    "plt.plot(df_NSE['LSTM_NonSense'], df_NSE['cdf'], label='LSTM+NonSense' , color=color_dictionary['LSTM_NonSense'])\n",
    "plt.plot(df_NSE['SHM'], df_NSE['cdf'], label='SHM' , color=color_dictionary['SHM'])\n",
    "\n",
    "plt.xlim(0.2, 1)\n",
    "plt.xlabel('NSE', fontsize=18, fontweight='bold')\n",
    "plt.ylabel('CDF', fontsize=18, fontweight='bold')\n",
    "plt.xticks(fontsize=16)    \n",
    "plt.yticks([i * 0.25 for i in range(5)], fontsize=16)\n",
    "\n",
    "plt.legend(loc='upper left', fontsize=16)\n",
    "plt.savefig('Comparison_cdf_nse.png', bbox_inches='tight', pad_inches=0.05, dpi=300)\n",
    "plt.show()"
   ]
  },
  {
   "cell_type": "code",
   "execution_count": null,
   "metadata": {},
   "outputs": [],
   "source": [
    "print('Median NSE LSTM: '+str(LSTM.median().round(2).item()) + '\\n' +\n",
    "      'Median NSE LSTM_SHM: '+str(LSTM_SHM.median().round(2).item()) + '\\n' +\n",
    "      'Median NSE LSTM_Bucket: '+str(LSTM_Bucket.median().round(2).item()) + '\\n' +\n",
    "      'Median NSE LSTM_NonSense: '+str(LSTM_NonSense.median().round(2).item()) + '\\n' +\n",
    "      'Median NSE SHM: '+str(SHM.median().round(2).item()))"
   ]
  },
  {
   "cell_type": "markdown",
   "metadata": {},
   "source": [
    "Part 3. Discharge time series comparison for the different models"
   ]
  },
  {
   "cell_type": "code",
   "execution_count": null,
   "metadata": {},
   "outputs": [],
   "source": [
    "# The discharge files are generated when running the scripts associated with each model\n",
    "basin_of_interest = 15006\n",
    "\n",
    "LSTM = pd.read_csv('models/LSTM_CAMELS_GB/y_sim.csv')\n",
    "LSTM_SHM = pd.read_csv('models/LSTM_SHM/y_sim.csv')\n",
    "LSTM_Bucket = pd.read_csv('models/LSTM_bucket/y_sim.csv')\n",
    "LSTM_NonSense = pd.read_csv('models/LSTM_NonSense/y_sim.csv')\n",
    "\n",
    "plt.rcParams[\"figure.figsize\"]=(12,8)\n",
    "plt.plot(LSTM[str(basin_of_interest)][0:1095].values, label='LSTM' , color=color_dictionary['LSTM'], linewidth=1)\n",
    "plt.plot(LSTM_SHM[str(basin_of_interest)][0:1095].values, label='LSTM+SHM' , color=color_dictionary['LSTM_SHM'], linewidth=1)\n",
    "plt.plot(LSTM_Bucket[str(basin_of_interest)][0:1095].values, label='LSTM+Bucket' , color=color_dictionary['LSTM_Bucket'], linewidth=1)\n",
    "plt.plot(LSTM_NonSense[str(basin_of_interest)][0:1095].values, label='LSTM+NonSense' , color=color_dictionary['LSTM_NonSense'], linewidth=1)\n",
    "plt.xlabel('Day', fontsize=18, fontweight='bold')\n",
    "plt.ylabel('Discharge [mm/d]', fontsize=18, fontweight='bold')\n",
    "plt.xticks(fontsize=16)  \n",
    "plt.yticks(fontsize=16)  \n",
    "plt.legend(loc=\"upper right\",fontsize=16)\n",
    "plt.savefig('Discharge_Comparison', bbox_inches='tight', pad_inches=0.05, dpi=300)"
   ]
  },
  {
   "cell_type": "markdown",
   "metadata": {},
   "source": [
    "Part 4. Soil Moisture comparison (ERA5-LAND vs Lees vs LSTM+SHM)"
   ]
  },
  {
   "cell_type": "code",
   "execution_count": null,
   "metadata": {},
   "outputs": [],
   "source": [
    "path_sm_lees= Path(\"../benchmarks/Lees/swvl3_preds.nc\")\n",
    "path_entities = \"../data/basin_id/basins_camels_gb_60.txt\"\n",
    "\n",
    "# Basins in testing period\n",
    "basins = np.loadtxt(path_entities, dtype=int).tolist()\n",
    "basins.remove(6007) # for some reason lees database does not have basin 6007\n",
    "\n",
    "# Read information from Lees benchmark\n",
    "sm_lees = xr.open_dataset(path_sm_lees)\n",
    "sm_lees = sm_lees.sel(station_id=basins)\n",
    "\n",
    "df_ERA5_land = sm_lees['obs'].to_pandas().transpose() #ERA5Land data\n",
    "df_ERA5_land.index = df_ERA5_land.index.date\n",
    "\n",
    "df_probes_Lees = sm_lees['sim'].to_pandas().transpose() # simulated data from probes\n",
    "df_probes_Lees.index = df_probes_Lees.index.date\n",
    "\n",
    "# Calculate Lees correlation\n",
    "corr_lees = df_ERA5_land.corrwith(df_probes_Lees)\n",
    "print(f'Correlation Lees vs ERA5_Land \\n median: {\"%.2f\" % np.median(corr_lees)} | mix: {\"%.2f\" % np.min(corr_lees)} | max: {\"%.2f\" % np.max(corr_lees)}')"
   ]
  },
  {
   "cell_type": "code",
   "execution_count": null,
   "metadata": {},
   "outputs": [],
   "source": [
    "df_su_LSTM_SHM = pd.read_csv('models/LSTM_SHM/su.csv', index_col='date', parse_dates=['date'])\n",
    "df_su_LSTM_SHM.columns = df_su_LSTM_SHM.columns.astype('int64') # to be consistent with datatype from Lees\n",
    "df_su_LSTM_SHM = df_su_LSTM_SHM[:-1].loc[:, basins] #lees have data until the 30-12-2008 (we had one more day)\n",
    "corr_LSTM_SHM = df_ERA5_land.corrwith(df_su_LSTM_SHM)\n",
    "print(f'Correlation LSTM+SHM vs ERA5_Land \\n median: {\"%.2f\" % np.median(corr_LSTM_SHM)} | mix: {\"%.2f\" % np.min(corr_LSTM_SHM)} | max: {\"%.2f\" % np.max(corr_LSTM_SHM)}')"
   ]
  },
  {
   "cell_type": "code",
   "execution_count": null,
   "metadata": {},
   "outputs": [],
   "source": [
    "corr_df = pd.DataFrame({'corr_lees': corr_lees, 'corr_LSTM_SHM': corr_LSTM_SHM})\n",
    "corr_df = corr_df.apply(lambda x: x.sort_values().values).reset_index(drop=True)\n",
    "corr_df['cdf'] = np.arange(len(corr_df)) / (len(corr_df) - 1)\n",
    "\n",
    "# Create a figure and subplots\n",
    "fig, axes = plt.subplots(nrows=1, ncols=2, figsize=(16, 8))\n",
    "\n",
    "# Plot CDF of correlation values\n",
    "axes[0].plot(corr_df['corr_LSTM_SHM'], corr_df['cdf'], label='LSTM+SHM', color=color_dictionary['LSTM_SHM'])\n",
    "axes[0].plot(corr_df['corr_lees'], corr_df['cdf'], label='Benchmark_Lees', color=color_dictionary['benchmark'])\n",
    "axes[0].set_xlim(0.2, 1)\n",
    "axes[0].set_xlabel('Pearson correlation', fontsize=18, fontweight='bold')\n",
    "axes[0].set_ylabel('CDF', fontsize=18, fontweight='bold')\n",
    "axes[0].set_xticks(np.arange(0.2, 1.1, 0.2))\n",
    "axes[0].set_yticks(np.arange(0, 1.1, 0.25))\n",
    "axes[0].tick_params(labelsize=16)\n",
    "axes[0].legend(loc='upper left', fontsize=16)\n",
    "\n",
    "# Plot scatter plot with best-fit line\n",
    "axes[1].scatter(corr_LSTM_SHM, corr_lees)\n",
    "slope, intercept = np.polyfit(corr_LSTM_SHM, corr_lees, 1)\n",
    "#axes[1].plot(corr_LSTM_SHM, slope * corr_LSTM_SHM + intercept)\n",
    "axes[1].set_xlabel('Pearson correlation LSTM_SHM', fontsize=18, fontweight='bold')\n",
    "axes[1].set_ylabel('Pearson correlation Lees', fontsize=18, fontweight='bold')\n",
    "axes[1].tick_params(labelsize=16)\n",
    "#axes[1].axvline(x=corr_lees.min(), color='red', linestyle='--', label='Minimum value by Lees')\n",
    "axes[1].plot([0, 1], [0, 1], color='black', linestyle='--' , label='Identity line')\n",
    "axes[1].legend(loc='upper left', fontsize=16)\n",
    "\n",
    "# Adjust layout and display plot\n",
    "plt.tight_layout()\n",
    "plt.savefig('Benchmark_SoilMoisture.png', bbox_inches='tight', pad_inches=0.05, dpi=300)\n",
    "plt.show()"
   ]
  },
  {
   "cell_type": "code",
   "execution_count": null,
   "metadata": {},
   "outputs": [],
   "source": [
    "df_su_SHM= pd.read_csv('models/conceptual_models/SHM_su.csv', index_col='date', parse_dates=['date'])\n",
    "df_su_SHM.columns = df_su_SHM.columns.astype('int64') # to be consistent with datatype from Lees\n",
    "df_su_SHM = df_su_SHM[:-1].loc[:, basins] #lees have data until the 30-12-2008 (we had one more day)\n",
    "corr_SHM = df_ERA5_land.corrwith(df_su_SHM)\n",
    "print(f'Correlation SHM vs ERA5_Land \\n median: {\"%.2f\" % np.median(corr_SHM)} | mix: {\"%.2f\" % np.min(corr_SHM)} | max: {\"%.2f\" % np.max(corr_SHM)}')\n",
    "\n",
    "corr_SHM_Hybrid = df_su_LSTM_SHM.corrwith(df_su_SHM)\n",
    "print(f'Correlation SHM vs Hybrid \\n median: {\"%.2f\" % np.median(corr_SHM_Hybrid)} | mix: {\"%.2f\" % np.min(corr_SHM_Hybrid)} | max: {\"%.2f\" % np.max(corr_SHM_Hybrid)}')"
   ]
  },
  {
   "cell_type": "code",
   "execution_count": null,
   "metadata": {},
   "outputs": [],
   "source": [
    "# Plot the specific column\n",
    "basin_to_plot = 11001 #id of basin\n",
    "\n",
    "ts_era5 = df_ERA5_land[basin_to_plot]\n",
    "ts_era5 = (ts_era5 - ts_era5.min())/(ts_era5.max()-ts_era5.min())\n",
    "ts_less = df_probes_Lees[basin_to_plot]\n",
    "ts_less = (ts_less - ts_less.min())/(ts_less.max()-ts_less.min())\n",
    "ts_LSTM_SHM = df_su_LSTM_SHM[basin_to_plot]\n",
    "ts_LSTM_SHM = (ts_LSTM_SHM - ts_LSTM_SHM.min())/(ts_LSTM_SHM.max()-ts_LSTM_SHM.min())\n",
    "ts_SHM = df_su_SHM[basin_to_plot]\n",
    "ts_SHM = (ts_SHM - ts_SHM.min())/(ts_SHM.max()-ts_SHM.min())\n",
    "\n",
    "plt.rcParams[\"figure.figsize\"]=(12,8)\n",
    "plt.plot(ts_era5[:1460].values, label=\"ERA5_Land\", color=color_dictionary['Observed'], linewidth=1)\n",
    "plt.plot(ts_less[:1460].values, label=\"Benchmark_Lees\", color=color_dictionary['benchmark'], linewidth=1)\n",
    "plt.plot(ts_LSTM_SHM[:1460].values, label=\"LSTM+SHM\", color=color_dictionary['LSTM_SHM'], linewidth=1)\n",
    "plt.plot(ts_SHM[:1460].values, label=\"SHM\", color=color_dictionary['SHM'], linewidth=1)\n",
    "\n",
    "plt.xlabel('Day', fontsize=18, fontweight='bold')\n",
    "plt.xticks(fontsize=16)  \n",
    "plt.ylabel('Soil moisture (normalized)', fontsize=18, fontweight='bold')\n",
    "plt.yticks(fontsize=16)  \n",
    "\n",
    "plt.legend(loc=\"lower left\",fontsize=16, ncol=4)\n",
    "plt.savefig('SM_Comparison.png', bbox_inches='tight', pad_inches=0.05, dpi=300)\n",
    "plt.show()"
   ]
  },
  {
   "cell_type": "markdown",
   "metadata": {},
   "source": [
    "Part 5. Soil Moisture for other hybrid models"
   ]
  },
  {
   "cell_type": "code",
   "execution_count": null,
   "metadata": {},
   "outputs": [],
   "source": [
    "df_su_LSTM_Bucket = pd.read_csv('models/LSTM_bucket/si.csv', index_col='date', parse_dates=['date'])\n",
    "df_su_LSTM_Bucket.index = df_su_LSTM_Bucket.index.date\n",
    "df_su_LSTM_Bucket.columns = df_su_LSTM_Bucket.columns.astype('int64') # to be consistent with datatype from Lees\n",
    "df_su_LSTM_Bucket = df_su_LSTM_Bucket[:-1].loc[:, basins] #lees have data until the 30-12-2008 (we had one more day)\n",
    "corr_LSTM_Bucket = df_ERA5_land.corrwith(df_su_LSTM_Bucket)\n",
    "print(f'Correlation LSTM+Bucket \\n median: {\"%.2f\" % np.median(corr_LSTM_Bucket)} | mix: {\"%.2f\" % np.min(corr_LSTM_Bucket)} | max: {\"%.2f\" % np.max(corr_LSTM_Bucket)}')"
   ]
  },
  {
   "cell_type": "code",
   "execution_count": null,
   "metadata": {},
   "outputs": [],
   "source": [
    "df_su_LSTM_NonSense = pd.read_csv('models/LSTM_NonSense/su.csv', index_col='date', parse_dates=['date'])\n",
    "df_su_LSTM_NonSense.index = df_su_LSTM_NonSense.index.date\n",
    "df_su_LSTM_NonSense.columns = df_su_LSTM_NonSense.columns.astype('int64') # to be consistent with datatype from Lees\n",
    "df_su_LSTM_NonSense = df_su_LSTM_NonSense[:-1].loc[:, basins] #lees have data until the 30-12-2008 (we had one more day)\n",
    "corr_LSTM_NonSense = df_ERA5_land.corrwith(df_su_LSTM_NonSense)\n",
    "print(f'Correlation LSTM+NonSense \\n median: {\"%.2f\" % np.median(corr_LSTM_NonSense)} | mix: {\"%.2f\" % np.min(corr_LSTM_NonSense)} | max: {\"%.2f\" % np.max(corr_LSTM_NonSense)}')"
   ]
  },
  {
   "cell_type": "markdown",
   "metadata": {},
   "source": [
    "Part 6. Parameter variation"
   ]
  },
  {
   "cell_type": "code",
   "execution_count": null,
   "metadata": {},
   "outputs": [],
   "source": [
    "path_test_results = 'models/LSTM_SHM/test_results.pickle'\n",
    "with open(path_test_results, 'rb') as f:\n",
    "    test_results = pickle.load(f)"
   ]
  },
  {
   "cell_type": "code",
   "execution_count": null,
   "metadata": {},
   "outputs": [],
   "source": [
    "# Plot to see how the paramters vary in time. There are some axis scales that are hard coded! Change if necessary\n",
    "basin_to_analyze = ['15016', '9002']\n",
    "param_list = [ 'sumax', 'beta', 'ki', 'kb'] \n",
    "\n",
    "# Creating the figure and subplots\n",
    "fig, axs = plt.subplots(5, 2, figsize=(12, 14))\n",
    "\n",
    "# First subplot (row 0, column 0)\n",
    "obs = test_results[basin_to_analyze[0]]['discharges']['y_obs'][0:1460].values\n",
    "sim = test_results[basin_to_analyze[0]]['discharges']['y_sim'][0:1460].values\n",
    "axs[0, 0].plot(obs, label=\"Observed\", color=color_dictionary[\"Observed\"], linewidth=1.0)\n",
    "axs[0, 0].plot(sim, label=\"LSTM+SHM\", color=color_dictionary[\"LSTM_SHM\"],  linewidth=1.0)\n",
    "axs[0,0].set_title('Basin id '+basin_to_analyze[0], fontsize=16, fontweight='bold')\n",
    "axs[0,0].set_ylabel('Discharge [mm/d]', fontsize=16, fontweight='bold')\n",
    "axs[0, 0].yaxis.set_major_locator(MaxNLocator(nbins=3))\n",
    "axs[0,0].tick_params(axis='both', which='major', labelsize=16) # Set font size for tick labels\n",
    "axs[0, 0].legend(loc=\"upper left\", fontsize=14)\n",
    "\n",
    "# Second subplot (row 1, column 0)\n",
    "param1 = test_results[basin_to_analyze[0]]['parameters'][param_list[0]][0:1460].values\n",
    "axs[1, 0].plot(param1, label= param_list[0], color=color_dictionary[\"LSTM_SHM\"], linewidth=1.0)\n",
    "axs[1,0].set_ylabel(param_list[0], fontsize=16, fontweight='bold')\n",
    "axs[1, 0].yaxis.set_major_locator(MaxNLocator(nbins=3))\n",
    "axs[1,0].tick_params(axis='both', which='major', labelsize=16)\n",
    "\n",
    "# Third subplot (row 2, column 0)\n",
    "param2 = test_results[basin_to_analyze[0]]['parameters'][param_list[1]][0:1460].values\n",
    "axs[2, 0].plot(param2, label= param_list[1], color=color_dictionary[\"LSTM_SHM\"], linewidth=1.0)\n",
    "axs[2,0].set_ylabel(param_list[1], fontsize=16, fontweight='bold')\n",
    "axs[2, 0].yaxis.set_major_locator(MaxNLocator(nbins=3))\n",
    "axs[2,0].tick_params(axis='both', which='major', labelsize=16)\n",
    "\n",
    "# Forth subplot (row 3, column 0)\n",
    "param3 = test_results[basin_to_analyze[0]]['parameters'][param_list[2]][0:1460].values\n",
    "axs[3, 0].plot(param3, label= param_list[2], color=color_dictionary[\"LSTM_SHM\"], linewidth=1.0)\n",
    "axs[3,0].set_ylabel(param_list[2], fontsize=16, fontweight='bold')\n",
    "axs[3, 0].yaxis.set_major_locator(MaxNLocator(nbins=3))\n",
    "axs[3,0].tick_params(axis='both', which='major', labelsize=16)\n",
    "\n",
    "# Fifth subplot (row 4, column 0)\n",
    "param4 = test_results[basin_to_analyze[0]]['parameters'][param_list[3]][0:1460].values\n",
    "axs[4, 0].plot(param4, label= param_list[3], color=color_dictionary[\"LSTM_SHM\"], linewidth=1.0)\n",
    "axs[4,0].set_ylabel(param_list[3], fontsize=16, fontweight='bold')\n",
    "axs[4, 0].yaxis.set_major_locator(MaxNLocator(nbins=3))\n",
    "axs[4,0].tick_params(axis='both', which='major', labelsize=16)\n",
    "axs[4,0].set_xlabel('Day', fontsize=16, fontweight='bold')\n",
    "\n",
    "# Forth subplot (row 0, column 1)\n",
    "obs = test_results[basin_to_analyze[1]]['discharges']['y_obs'][0:1460].values\n",
    "sim = test_results[basin_to_analyze[1]]['discharges']['y_sim'][0:1460].values\n",
    "axs[0, 1].plot(obs, label=\"Observed\", color=color_dictionary[\"Observed\"], linewidth=1.0)\n",
    "axs[0, 1].plot(sim, label=\"LSTM+SHM\", color=color_dictionary[\"LSTM_SHM\"], linewidth=1.0)\n",
    "axs[0,1].set_title('Basin id '+basin_to_analyze[1], fontsize=16, fontweight='bold')\n",
    "axs[0,1].tick_params(axis='both', which='major', labelsize=16) # Set font size for tick labels\n",
    "axs[0, 1].yaxis.set_major_locator(MaxNLocator(nbins=3))\n",
    "#axs[0, 1].legend(loc=\"upper right\")\n",
    "\n",
    "# Fifth subplot (row 1, column 1)\n",
    "param5 = test_results[basin_to_analyze[1]]['parameters'][param_list[0]][0:1460].values\n",
    "axs[1, 1].plot(param5, label= param_list[0], color=color_dictionary[\"LSTM_SHM\"], linewidth=1.0)\n",
    "axs[1,1].tick_params(axis='both', which='major', labelsize=16)\n",
    "#axs[1, 1].set_yticks([260, 285, 310])\n",
    "#axs[1, 1].yaxis.set_major_locator(MaxNLocator(nbins=3))\n",
    "\n",
    "# Sixth subplot (row 2, column 1)\n",
    "param6 = test_results[basin_to_analyze[1]]['parameters'][param_list[1]][0:1460].values\n",
    "axs[2, 1].plot(param6, label= param_list[1], color=color_dictionary[\"LSTM_SHM\"], linewidth=1.0)\n",
    "axs[2,1].tick_params(axis='both', which='major', labelsize=16)\n",
    "#axs[2, 1].set_yticks([5, 5.5])\n",
    "#axs[2, 1].yaxis.set_major_locator(MaxNLocator(nbins=2))\n",
    "\n",
    "# Seventh subplot (row 3, column 1)\n",
    "param7 = test_results[basin_to_analyze[1]]['parameters'][param_list[2]][0:1460].values\n",
    "axs[3, 1].plot(param7, label= param_list[2], color=color_dictionary[\"LSTM_SHM\"], linewidth=1.0)\n",
    "axs[3,1].tick_params(axis='both', which='major', labelsize=16)\n",
    "#axs[3, 1].yaxis.set_major_locator(MaxNLocator(nbins=3))\n",
    "\n",
    "# Eigth subplot (row 4, column 2)\n",
    "param8 = test_results[basin_to_analyze[1]]['parameters'][param_list[3]][0:1460].values\n",
    "axs[4,1].plot(param8, label= param_list[3], color=color_dictionary[\"LSTM_SHM\"], linewidth=1.0)\n",
    "axs[4,1].tick_params(axis='both', which='major', labelsize=16)\n",
    "axs[4,1].set_xlabel('Day', fontsize=16, fontweight='bold')\n",
    "#axs[4, 1].yaxis.set_major_locator(MaxNLocator(nbins=3))\n",
    "\n",
    "for i in range(4):\n",
    "    axs[i, 0].xaxis.set_visible(False)\n",
    "    axs[i, 1].xaxis.set_visible(False)\n",
    "\n",
    "# Adjusting the layout for better spacing\n",
    "plt.tight_layout()\n",
    "\n",
    "# Displaying the graph\n",
    "plt.savefig('ParameterVariation.png', bbox_inches='tight', pad_inches=0.05, dpi=300)\n",
    "plt.show()"
   ]
  }
 ],
 "metadata": {
  "kernelspec": {
   "display_name": "Python 3 (ipykernel)",
   "language": "python",
   "name": "python3"
  },
  "language_info": {
   "codemirror_mode": {
    "name": "ipython",
    "version": 3
   },
   "file_extension": ".py",
   "mimetype": "text/x-python",
   "name": "python",
   "nbconvert_exporter": "python",
   "pygments_lexer": "ipython3",
   "version": "3.10.4"
  },
  "vscode": {
   "interpreter": {
    "hash": "42b7dc197ee81dd2f6541889b0e14556b882d218c1e7c97db94bc0f7b191f034"
   }
  }
 },
 "nbformat": 4,
 "nbformat_minor": 4
}
